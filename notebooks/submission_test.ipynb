{
 "cells": [
  {
   "cell_type": "code",
   "execution_count": null,
   "metadata": {},
   "outputs": [],
   "source": [
    "# Test the inference server locally\n",
    "server = MarketPredictionServer()\n",
    "\n",
    "# Create test data\n",
    "test_features = {\n",
    "    'feature_0': [0.1],\n",
    "    'feature_1': [0.2],\n",
    "    # ... other features ...\n",
    "    'date_id': [100],\n",
    "    'time_id': [10],\n",
    "    'symbol_id': [1]\n",
    "}\n",
    "\n",
    "# Test prediction\n",
    "result = server.predict(test_features)\n",
    "print(f\"Test prediction: {result}\")\n",
    "\n",
    "# Initialize official evaluation server\n",
    "evaluation_server = JaneStreetInferenceServer()\n",
    "evaluation_server.predict_setup(server.predict)"
   ]
  }
 ],
 "metadata": {
  "language_info": {
   "name": "python"
  }
 },
 "nbformat": 4,
 "nbformat_minor": 2
}
